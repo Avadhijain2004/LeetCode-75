{
 "cells": [
  {
   "cell_type": "markdown",
   "id": "ad8cd872",
   "metadata": {},
   "source": [
    "# Problem 3 - Kids With the Greatest Number of Candies\n"
   ]
  },
  {
   "cell_type": "markdown",
   "id": "a0b16941",
   "metadata": {},
   "source": [
    "There are n kids with candies. You are given an integer array candies, where each candies[i] represents the number of candies the ith kid has, and an integer extraCandies, denoting the number of extra candies that you have.\n",
    "\n",
    "Return a boolean array result of length n, where result[i] is true if, after giving the ith kid all the extraCandies, they will have the greatest number of candies among all the kids, or false otherwise.\n",
    "\n",
    "Note that multiple kids can have the greatest number of candies.\n",
    "\n",
    " \n",
    "\n",
    "**Example 1:**\n",
    "\n",
    "Input: candies = [2,3,5,1,3], extraCandies = 3\n",
    "\n",
    "Output: [true,true,true,false,true] \n",
    "\n",
    "Explanation: If you give all extraCandies to:\n",
    "\n",
    "- Kid 1, they will have 2 + 3 = 5 candies, which is the greatest among the kids.\n",
    "- Kid 2, they will have 3 + 3 = 6 candies, which is the greatest among the kids.\n",
    "- Kid 3, they will have 5 + 3 = 8 candies, which is the greatest among the kids.\n",
    "- Kid 4, they will have 1 + 3 = 4 candies, which is not the greatest among the kids.\n",
    "- Kid 5, they will have 3 + 3 = 6 candies, which is the greatest among the kids.\n",
    "\n",
    "**Example 2:**\n",
    "\n",
    "Input: candies = [4,2,1,1,2], extraCandies = 1\n",
    "\n",
    "Output: [true,false,false,false,false] \n",
    "\n",
    "Explanation: There is only 1 extra candy.\n",
    "Kid 1 will always have the greatest number of candies, even if a different kid is given the extra candy.\n",
    "\n",
    "**Example 3:**\n",
    "\n",
    "Input: candies = [12,1,12], extraCandies = 10\n",
    "\n",
    "Output: [true,false,true]\n",
    " \n",
    "\n",
    "**Constraints:**\n",
    "\n",
    "1. n == candies.length\n",
    "2. 2 <= n <= 100\n",
    "3. 1 <= candies[i] <= 100\n",
    "4. 1 <= extraCandies <= 50"
   ]
  },
  {
   "cell_type": "markdown",
   "id": "18504b8e",
   "metadata": {},
   "source": [
    "**Solution**"
   ]
  },
  {
   "cell_type": "code",
   "execution_count": 2,
   "id": "4cecce85",
   "metadata": {},
   "outputs": [],
   "source": [
    "from typing import List\n",
    "class Solution:\n",
    "    def kidsWithCandies(self, candies: List[int], extraCandies: int) -> List[bool]:\n",
    "        maximum = max(candies)\n",
    "        for i in range(len(candies)):\n",
    "            candies[i] = candies[i] + extraCandies\n",
    "        \n",
    "        for i in range(len(candies)):\n",
    "            if candies[i]>=maximum:\n",
    "                candies[i]=True\n",
    "            else:\n",
    "                candies[i]=False\n",
    "\n",
    "        return candies"
   ]
  },
  {
   "cell_type": "code",
   "execution_count": 3,
   "id": "2b3dd056",
   "metadata": {},
   "outputs": [],
   "source": [
    "s = Solution()"
   ]
  },
  {
   "cell_type": "code",
   "execution_count": 5,
   "id": "53aa6f19",
   "metadata": {},
   "outputs": [
    {
     "data": {
      "text/plain": [
       "[True, True, True, False, True]"
      ]
     },
     "execution_count": 5,
     "metadata": {},
     "output_type": "execute_result"
    }
   ],
   "source": [
    "s.kidsWithCandies( candies = [2,3,5,1,3], extraCandies = 3)"
   ]
  },
  {
   "cell_type": "code",
   "execution_count": 6,
   "id": "f8d0b3f5",
   "metadata": {},
   "outputs": [
    {
     "data": {
      "text/plain": [
       "[True, False, False, False, False]"
      ]
     },
     "execution_count": 6,
     "metadata": {},
     "output_type": "execute_result"
    }
   ],
   "source": [
    "s.kidsWithCandies( candies = [4,2,1,1,2], extraCandies = 1)"
   ]
  },
  {
   "cell_type": "code",
   "execution_count": 7,
   "id": "6fe7fb21",
   "metadata": {},
   "outputs": [
    {
     "data": {
      "text/plain": [
       "[True, False, True]"
      ]
     },
     "execution_count": 7,
     "metadata": {},
     "output_type": "execute_result"
    }
   ],
   "source": [
    "s.kidsWithCandies( candies = [12,1,12], extraCandies = 10)"
   ]
  }
 ],
 "metadata": {
  "kernelspec": {
   "display_name": "Python 3 (ipykernel)",
   "language": "python",
   "name": "python3"
  },
  "language_info": {
   "codemirror_mode": {
    "name": "ipython",
    "version": 3
   },
   "file_extension": ".py",
   "mimetype": "text/x-python",
   "name": "python",
   "nbconvert_exporter": "python",
   "pygments_lexer": "ipython3",
   "version": "3.9.12"
  }
 },
 "nbformat": 4,
 "nbformat_minor": 5
}
