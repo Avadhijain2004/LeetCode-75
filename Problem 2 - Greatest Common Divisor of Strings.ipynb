{
 "cells": [
  {
   "cell_type": "markdown",
   "id": "6b438b95",
   "metadata": {},
   "source": [
    "# Problem 2 - Greatest Common Divisor of Strings"
   ]
  },
  {
   "cell_type": "markdown",
   "id": "6fc6f82f",
   "metadata": {},
   "source": [
    "For two strings s and t, we say \"t divides s\" if and only if s = t + t + t + ... + t + t (i.e., t is concatenated with itself one or more times).\n",
    "\n",
    "Given two strings str1 and str2, return the largest string x such that x divides both str1 and str2.\n",
    "\n",
    " \n",
    "**Example 1:**\n",
    "\n",
    "Input: str1 = \"ABCABC\", str2 = \"ABC\"\n",
    "\n",
    "Output: \"ABC\"\n",
    "\n",
    "**Example 2:**\n",
    "\n",
    "Input: str1 = \"ABABAB\", str2 = \"ABAB\"\n",
    "\n",
    "Output: \"AB\"\n",
    "\n",
    "**Example 3:**\n",
    "\n",
    "Input: str1 = \"LEET\", str2 = \"CODE\"\n",
    "\n",
    "Output: \"\"\n",
    " \n",
    "\n",
    "**Constraints:**\n",
    "\n",
    "1. 1 <= str1.length, str2.length <= 1000\n",
    "2. str1 and str2 consist of English uppercase letters."
   ]
  },
  {
   "cell_type": "markdown",
   "id": "f69f95a1",
   "metadata": {},
   "source": [
    "**Solution**"
   ]
  },
  {
   "cell_type": "code",
   "execution_count": 7,
   "id": "110f4041",
   "metadata": {},
   "outputs": [],
   "source": [
    "class Solution:\n",
    "    def gcdOfStrings(self, str1: str, str2: str) -> str:\n",
    "        \n",
    "        # Check if concatenated strings are equal or not, if not return \"\"\n",
    "        if str1 + str2 != str2 + str1:\n",
    "            return \"\"\n",
    "        # If strings are equal than return the substring from 0 to gcd of size(str1), size(str2)\n",
    "        from math import gcd\n",
    "        return str1[:gcd(len(str1), len(str2))]"
   ]
  },
  {
   "cell_type": "code",
   "execution_count": 8,
   "id": "bdff8951",
   "metadata": {},
   "outputs": [],
   "source": [
    "s = Solution()"
   ]
  },
  {
   "cell_type": "code",
   "execution_count": 9,
   "id": "cdd2f0cc",
   "metadata": {},
   "outputs": [
    {
     "data": {
      "text/plain": [
       "'ABC'"
      ]
     },
     "execution_count": 9,
     "metadata": {},
     "output_type": "execute_result"
    }
   ],
   "source": [
    "s.gcdOfStrings(\"ABCABC\",\"ABC\")"
   ]
  },
  {
   "cell_type": "code",
   "execution_count": 10,
   "id": "84d52d4f",
   "metadata": {},
   "outputs": [
    {
     "data": {
      "text/plain": [
       "'AB'"
      ]
     },
     "execution_count": 10,
     "metadata": {},
     "output_type": "execute_result"
    }
   ],
   "source": [
    "s.gcdOfStrings(\"ABABAB\",\"ABAB\")"
   ]
  },
  {
   "cell_type": "code",
   "execution_count": 11,
   "id": "4d0aa295",
   "metadata": {},
   "outputs": [
    {
     "data": {
      "text/plain": [
       "''"
      ]
     },
     "execution_count": 11,
     "metadata": {},
     "output_type": "execute_result"
    }
   ],
   "source": [
    "s.gcdOfStrings(\"LEET\",\"CODE\")"
   ]
  },
  {
   "cell_type": "code",
   "execution_count": 12,
   "id": "d0e8fbf8",
   "metadata": {},
   "outputs": [
    {
     "data": {
      "text/plain": [
       "''"
      ]
     },
     "execution_count": 12,
     "metadata": {},
     "output_type": "execute_result"
    }
   ],
   "source": [
    "s.gcdOfStrings(\"ABCDEF\",\"ABC\")"
   ]
  }
 ],
 "metadata": {
  "kernelspec": {
   "display_name": "Python 3 (ipykernel)",
   "language": "python",
   "name": "python3"
  },
  "language_info": {
   "codemirror_mode": {
    "name": "ipython",
    "version": 3
   },
   "file_extension": ".py",
   "mimetype": "text/x-python",
   "name": "python",
   "nbconvert_exporter": "python",
   "pygments_lexer": "ipython3",
   "version": "3.9.12"
  }
 },
 "nbformat": 4,
 "nbformat_minor": 5
}
