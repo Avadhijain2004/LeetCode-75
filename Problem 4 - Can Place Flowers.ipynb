{
 "cells": [
  {
   "cell_type": "markdown",
   "id": "181b7057",
   "metadata": {},
   "source": [
    "# Problem 4 - Can Place Flowers"
   ]
  },
  {
   "cell_type": "markdown",
   "id": "ed361cbf",
   "metadata": {},
   "source": [
    "You have a long flowerbed in which some of the plots are planted, and some are not. However, flowers cannot be planted in adjacent plots.\n",
    "\n",
    "Given an integer array flowerbed containing 0's and 1's, where 0 means empty and 1 means not empty, and an integer n, return true if n new flowers can be planted in the flowerbed without violating the no-adjacent-flowers rule and false otherwise.\n",
    "\n",
    " \n",
    "**Example 1:**\n",
    "\n",
    "Input: flowerbed = [1,0,0,0,1], n = 1\n",
    "\n",
    "Output: true\n",
    "\n",
    "**Example 2:**\n",
    "\n",
    "Input: flowerbed = [1,0,0,0,1], n = 2\n",
    "\n",
    "Output: false\n",
    " \n",
    "\n",
    "**Constraints:**\n",
    "\n",
    "1. 1 <= flowerbed.length <= 2 * 104\n",
    "2. flowerbed[i] is 0 or 1.\n",
    "3. There are no two adjacent flowers in flowerbed.\n",
    "4. 0 <= n <= flowerbed.length"
   ]
  },
  {
   "cell_type": "markdown",
   "id": "ff26a778",
   "metadata": {},
   "source": [
    "**Solution**"
   ]
  },
  {
   "cell_type": "code",
   "execution_count": 1,
   "id": "e13ffcf1",
   "metadata": {},
   "outputs": [],
   "source": [
    "from typing import List\n",
    "\n",
    "class Solution:\n",
    "    def canPlaceFlowers(self, flowerbed: List[int], n: int) -> bool:\n",
    "        s = ''.join(map(str, flowerbed))\n",
    "        result = 0\n",
    "        for _ in range(n):\n",
    "            if s.startswith('00'):\n",
    "                s = '010' + s[2:]\n",
    "                result += 1\n",
    "            elif s.endswith('00'):\n",
    "                s = s[:-2] + '010'\n",
    "                result += 1\n",
    "            elif '000' in s:\n",
    "                s = s.replace('000', '010', 1)\n",
    "                result += 1        \n",
    "            elif s == '0':\n",
    "                s = '1'\n",
    "                result += 1\n",
    "        return result == n\n"
   ]
  },
  {
   "cell_type": "code",
   "execution_count": 3,
   "id": "8087f47c",
   "metadata": {},
   "outputs": [],
   "source": [
    "s=Solution()"
   ]
  },
  {
   "cell_type": "code",
   "execution_count": 4,
   "id": "8b615535",
   "metadata": {},
   "outputs": [
    {
     "data": {
      "text/plain": [
       "True"
      ]
     },
     "execution_count": 4,
     "metadata": {},
     "output_type": "execute_result"
    }
   ],
   "source": [
    "s.canPlaceFlowers(flowerbed = [1,0,0,0,1], n = 1)"
   ]
  },
  {
   "cell_type": "code",
   "execution_count": 5,
   "id": "e3bbd2de",
   "metadata": {},
   "outputs": [
    {
     "data": {
      "text/plain": [
       "False"
      ]
     },
     "execution_count": 5,
     "metadata": {},
     "output_type": "execute_result"
    }
   ],
   "source": [
    "s.canPlaceFlowers(flowerbed = [1,0,0,0,1], n = 2)"
   ]
  },
  {
   "cell_type": "code",
   "execution_count": 6,
   "id": "bdb2cf3a",
   "metadata": {},
   "outputs": [
    {
     "data": {
      "text/plain": [
       "True"
      ]
     },
     "execution_count": 6,
     "metadata": {},
     "output_type": "execute_result"
    }
   ],
   "source": [
    "s.canPlaceFlowers(flowerbed = [0], n = 1)"
   ]
  }
 ],
 "metadata": {
  "kernelspec": {
   "display_name": "Python 3 (ipykernel)",
   "language": "python",
   "name": "python3"
  },
  "language_info": {
   "codemirror_mode": {
    "name": "ipython",
    "version": 3
   },
   "file_extension": ".py",
   "mimetype": "text/x-python",
   "name": "python",
   "nbconvert_exporter": "python",
   "pygments_lexer": "ipython3",
   "version": "3.9.12"
  }
 },
 "nbformat": 4,
 "nbformat_minor": 5
}
