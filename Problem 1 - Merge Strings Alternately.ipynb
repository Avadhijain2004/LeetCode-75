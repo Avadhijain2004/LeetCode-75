{
 "cells": [
  {
   "cell_type": "markdown",
   "id": "2e26af6d",
   "metadata": {},
   "source": [
    "# Problem 1 - Merge Strings Alternately"
   ]
  },
  {
   "cell_type": "markdown",
   "id": "bcccc388",
   "metadata": {},
   "source": [
    "You are given two strings word1 and word2. Merge the strings by adding letters in alternating order, starting with word1. If a string is longer than the other, append the additional letters onto the end of the merged string.\n",
    "\n",
    "Return the merged string.\n",
    "\n",
    "\n",
    "**Example 1:**\n",
    "\n",
    "Input: word1 = \"abc\", word2 = \"pqr\"\n",
    "\n",
    "Output: \"apbqcr\"\n",
    "\n",
    "Explanation: The merged string will be merged as so:\n",
    "\n",
    "word1:  a   b   c\n",
    "\n",
    "word2:    p   q   r\n",
    "\n",
    "merged: a p b q c r\n",
    "\n",
    "**Example 2:**\n",
    "\n",
    "Input: word1 = \"ab\", word2 = \"pqrs\"\n",
    "\n",
    "Output: \"apbqrs\"\n",
    "\n",
    "Explanation: Notice that as word2 is longer, \"rs\" is appended to the end.\n",
    "\n",
    "word1:  a   b \n",
    "\n",
    "word2:    p   q   r   s\n",
    "\n",
    "merged: a p b q   r   s\n",
    "\n",
    "**Example 3:**\n",
    "\n",
    "Input: word1 = \"abcd\", word2 = \"pq\"\n",
    "\n",
    "Output: \"apbqcd\"\n",
    "\n",
    "Explanation: Notice that as word1 is longer, \"cd\" is appended to the end.\n",
    "\n",
    "word1:  a   b   c   d\n",
    "\n",
    "word2:    p   q \n",
    "\n",
    "merged: a p b q c   d\n",
    " \n",
    "\n",
    "**Constraints:**\n",
    "\n",
    "1. 1 <= word1.length, word2.length <= 100\n",
    "\n",
    "2. word1 and word2 consist of lowercase English letters."
   ]
  },
  {
   "cell_type": "markdown",
   "id": "22584226",
   "metadata": {},
   "source": [
    "**Solution**"
   ]
  },
  {
   "cell_type": "code",
   "execution_count": 1,
   "id": "7a1904e9",
   "metadata": {},
   "outputs": [],
   "source": [
    "class Solution:\n",
    "    def mergeAlternately(self, word1: str, word2: str) -> str:\n",
    "        result = []\n",
    "        w1 = word1.split()\n",
    "        w2 = word2.split()\n",
    "\n",
    "        if len(word1) < len(word2):\n",
    "            for i in range(len(word1)):\n",
    "                result.append(word1[i])\n",
    "                result.append(word2[i])\n",
    "            result += word2[len(word1):]\n",
    "        else:\n",
    "            for i in range(len(word2)):\n",
    "                result.append(word1[i])\n",
    "                result.append(word2[i])\n",
    "            result += word1[len(word2):]\n",
    "\n",
    "        return \"\".join(result)\n"
   ]
  },
  {
   "cell_type": "code",
   "execution_count": 2,
   "id": "d3315f51",
   "metadata": {},
   "outputs": [],
   "source": [
    "s = Solution()"
   ]
  },
  {
   "cell_type": "code",
   "execution_count": 3,
   "id": "a51573c0",
   "metadata": {},
   "outputs": [
    {
     "data": {
      "text/plain": [
       "'apbqcr'"
      ]
     },
     "execution_count": 3,
     "metadata": {},
     "output_type": "execute_result"
    }
   ],
   "source": [
    "s.mergeAlternately(\"abc\",\"pqr\")"
   ]
  },
  {
   "cell_type": "code",
   "execution_count": 4,
   "id": "07e49552",
   "metadata": {},
   "outputs": [
    {
     "data": {
      "text/plain": [
       "'apbqrs'"
      ]
     },
     "execution_count": 4,
     "metadata": {},
     "output_type": "execute_result"
    }
   ],
   "source": [
    "s.mergeAlternately(\"ab\",\"pqrs\")"
   ]
  },
  {
   "cell_type": "code",
   "execution_count": 5,
   "id": "a65f0b3e",
   "metadata": {},
   "outputs": [
    {
     "data": {
      "text/plain": [
       "'apbqcd'"
      ]
     },
     "execution_count": 5,
     "metadata": {},
     "output_type": "execute_result"
    }
   ],
   "source": [
    "s.mergeAlternately(\"abcd\",\"pq\")"
   ]
  }
 ],
 "metadata": {
  "kernelspec": {
   "display_name": "Python 3 (ipykernel)",
   "language": "python",
   "name": "python3"
  },
  "language_info": {
   "codemirror_mode": {
    "name": "ipython",
    "version": 3
   },
   "file_extension": ".py",
   "mimetype": "text/x-python",
   "name": "python",
   "nbconvert_exporter": "python",
   "pygments_lexer": "ipython3",
   "version": "3.9.12"
  }
 },
 "nbformat": 4,
 "nbformat_minor": 5
}
